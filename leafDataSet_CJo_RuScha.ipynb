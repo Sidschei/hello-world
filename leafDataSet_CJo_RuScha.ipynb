{
 "cells": [
  {
   "cell_type": "code",
   "execution_count": 1,
   "metadata": {
    "collapsed": true
   },
   "outputs": [],
   "source": [
    "import random\n",
    "import tensorflow as tf\n",
    "import numpy as np\n",
    "import pandas as pd\n",
    "import matplotlib as mpl\n",
    "import matplotlib.pyplot as plt\n",
    "from mnist import MNIST as mnist"
   ]
  },
  {
   "cell_type": "code",
   "execution_count": 2,
   "metadata": {},
   "outputs": [
    {
     "data": {
      "text/html": [
       "<div>\n",
       "<style>\n",
       "    .dataframe thead tr:only-child th {\n",
       "        text-align: right;\n",
       "    }\n",
       "\n",
       "    .dataframe thead th {\n",
       "        text-align: left;\n",
       "    }\n",
       "\n",
       "    .dataframe tbody tr th {\n",
       "        vertical-align: top;\n",
       "    }\n",
       "</style>\n",
       "<table border=\"1\" class=\"dataframe\">\n",
       "  <thead>\n",
       "    <tr style=\"text-align: right;\">\n",
       "      <th></th>\n",
       "      <th>classname</th>\n",
       "      <th>id_per_class</th>\n",
       "      <th>2</th>\n",
       "      <th>3</th>\n",
       "      <th>4</th>\n",
       "      <th>5</th>\n",
       "      <th>6</th>\n",
       "      <th>7</th>\n",
       "      <th>8</th>\n",
       "      <th>9</th>\n",
       "      <th>10</th>\n",
       "      <th>11</th>\n",
       "      <th>12</th>\n",
       "      <th>13</th>\n",
       "      <th>14</th>\n",
       "      <th>15</th>\n",
       "    </tr>\n",
       "  </thead>\n",
       "  <tbody>\n",
       "    <tr>\n",
       "      <th>0</th>\n",
       "      <td>1</td>\n",
       "      <td>1</td>\n",
       "      <td>0.72694</td>\n",
       "      <td>1.4742</td>\n",
       "      <td>0.32396</td>\n",
       "      <td>0.98535</td>\n",
       "      <td>1.00000</td>\n",
       "      <td>0.83592</td>\n",
       "      <td>0.004657</td>\n",
       "      <td>0.003947</td>\n",
       "      <td>0.047790</td>\n",
       "      <td>0.127950</td>\n",
       "      <td>0.016108</td>\n",
       "      <td>0.005232</td>\n",
       "      <td>0.000275</td>\n",
       "      <td>1.17560</td>\n",
       "    </tr>\n",
       "    <tr>\n",
       "      <th>1</th>\n",
       "      <td>1</td>\n",
       "      <td>2</td>\n",
       "      <td>0.74173</td>\n",
       "      <td>1.5257</td>\n",
       "      <td>0.36116</td>\n",
       "      <td>0.98152</td>\n",
       "      <td>0.99825</td>\n",
       "      <td>0.79867</td>\n",
       "      <td>0.005242</td>\n",
       "      <td>0.005002</td>\n",
       "      <td>0.024160</td>\n",
       "      <td>0.090476</td>\n",
       "      <td>0.008119</td>\n",
       "      <td>0.002708</td>\n",
       "      <td>0.000075</td>\n",
       "      <td>0.69659</td>\n",
       "    </tr>\n",
       "    <tr>\n",
       "      <th>2</th>\n",
       "      <td>1</td>\n",
       "      <td>3</td>\n",
       "      <td>0.76722</td>\n",
       "      <td>1.5725</td>\n",
       "      <td>0.38998</td>\n",
       "      <td>0.97755</td>\n",
       "      <td>1.00000</td>\n",
       "      <td>0.80812</td>\n",
       "      <td>0.007457</td>\n",
       "      <td>0.010121</td>\n",
       "      <td>0.011897</td>\n",
       "      <td>0.057445</td>\n",
       "      <td>0.003289</td>\n",
       "      <td>0.000921</td>\n",
       "      <td>0.000038</td>\n",
       "      <td>0.44348</td>\n",
       "    </tr>\n",
       "    <tr>\n",
       "      <th>3</th>\n",
       "      <td>1</td>\n",
       "      <td>4</td>\n",
       "      <td>0.73797</td>\n",
       "      <td>1.4597</td>\n",
       "      <td>0.35376</td>\n",
       "      <td>0.97566</td>\n",
       "      <td>1.00000</td>\n",
       "      <td>0.81697</td>\n",
       "      <td>0.006877</td>\n",
       "      <td>0.008607</td>\n",
       "      <td>0.015950</td>\n",
       "      <td>0.065491</td>\n",
       "      <td>0.004271</td>\n",
       "      <td>0.001154</td>\n",
       "      <td>0.000066</td>\n",
       "      <td>0.58785</td>\n",
       "    </tr>\n",
       "    <tr>\n",
       "      <th>4</th>\n",
       "      <td>1</td>\n",
       "      <td>5</td>\n",
       "      <td>0.82301</td>\n",
       "      <td>1.7707</td>\n",
       "      <td>0.44462</td>\n",
       "      <td>0.97698</td>\n",
       "      <td>1.00000</td>\n",
       "      <td>0.75493</td>\n",
       "      <td>0.007428</td>\n",
       "      <td>0.010042</td>\n",
       "      <td>0.007938</td>\n",
       "      <td>0.045339</td>\n",
       "      <td>0.002051</td>\n",
       "      <td>0.000560</td>\n",
       "      <td>0.000024</td>\n",
       "      <td>0.34214</td>\n",
       "    </tr>\n",
       "  </tbody>\n",
       "</table>\n",
       "</div>"
      ],
      "text/plain": [
       "   classname  id_per_class        2       3        4        5        6  \\\n",
       "0          1             1  0.72694  1.4742  0.32396  0.98535  1.00000   \n",
       "1          1             2  0.74173  1.5257  0.36116  0.98152  0.99825   \n",
       "2          1             3  0.76722  1.5725  0.38998  0.97755  1.00000   \n",
       "3          1             4  0.73797  1.4597  0.35376  0.97566  1.00000   \n",
       "4          1             5  0.82301  1.7707  0.44462  0.97698  1.00000   \n",
       "\n",
       "         7         8         9        10        11        12        13  \\\n",
       "0  0.83592  0.004657  0.003947  0.047790  0.127950  0.016108  0.005232   \n",
       "1  0.79867  0.005242  0.005002  0.024160  0.090476  0.008119  0.002708   \n",
       "2  0.80812  0.007457  0.010121  0.011897  0.057445  0.003289  0.000921   \n",
       "3  0.81697  0.006877  0.008607  0.015950  0.065491  0.004271  0.001154   \n",
       "4  0.75493  0.007428  0.010042  0.007938  0.045339  0.002051  0.000560   \n",
       "\n",
       "         14       15  \n",
       "0  0.000275  1.17560  \n",
       "1  0.000075  0.69659  \n",
       "2  0.000038  0.44348  \n",
       "3  0.000066  0.58785  \n",
       "4  0.000024  0.34214  "
      ]
     },
     "execution_count": 2,
     "metadata": {},
     "output_type": "execute_result"
    }
   ],
   "source": [
    "#einlesen der CSV 'leav.csv'\n",
    "leafArr = pd.read_csv('leaf.csv', sep=',', header = None)\n",
    "leafArr.rename(columns={0:'classname',1:'id_per_class'},inplace=True)\n",
    "leafArr.head()"
   ]
  },
  {
   "cell_type": "code",
   "execution_count": 3,
   "metadata": {},
   "outputs": [
    {
     "data": {
      "text/plain": [
       "['yellow',\n",
       " 'red',\n",
       " 'green',\n",
       " 'magenta',\n",
       " 'blue',\n",
       " 'pink',\n",
       " 'brown',\n",
       " 'black',\n",
       " 'grey',\n",
       " 'navy',\n",
       " 'gold',\n",
       " 'coral',\n",
       " 'royalblue',\n",
       " 'aqua']"
      ]
     },
     "execution_count": 3,
     "metadata": {},
     "output_type": "execute_result"
    }
   ],
   "source": [
    "#erstellen von Array, das später den Attributen Frabe gibt\n",
    "colorArr = [\"yellow\", \"red\", \"green\", \"magenta\", \"blue\", \"pink\", \"brown\", \"black\", \"grey\", \"navy\", \"gold\", \"coral\", \"royalblue\", \"aqua\"]\n",
    "colorArr"
   ]
  },
  {
   "cell_type": "code",
   "execution_count": 4,
   "metadata": {},
   "outputs": [
    {
     "data": {
      "text/html": [
       "<div>\n",
       "<style>\n",
       "    .dataframe thead tr:only-child th {\n",
       "        text-align: right;\n",
       "    }\n",
       "\n",
       "    .dataframe thead th {\n",
       "        text-align: left;\n",
       "    }\n",
       "\n",
       "    .dataframe tbody tr th {\n",
       "        vertical-align: top;\n",
       "    }\n",
       "</style>\n",
       "<table border=\"1\" class=\"dataframe\">\n",
       "  <thead>\n",
       "    <tr style=\"text-align: right;\">\n",
       "      <th></th>\n",
       "      <th>classname</th>\n",
       "      <th>id_per_class</th>\n",
       "      <th>2</th>\n",
       "      <th>3</th>\n",
       "      <th>4</th>\n",
       "      <th>5</th>\n",
       "      <th>6</th>\n",
       "      <th>7</th>\n",
       "      <th>8</th>\n",
       "      <th>9</th>\n",
       "      <th>10</th>\n",
       "      <th>11</th>\n",
       "      <th>12</th>\n",
       "      <th>13</th>\n",
       "      <th>14</th>\n",
       "      <th>15</th>\n",
       "      <th>colors</th>\n",
       "    </tr>\n",
       "  </thead>\n",
       "  <tbody>\n",
       "    <tr>\n",
       "      <th>0</th>\n",
       "      <td>1</td>\n",
       "      <td>1</td>\n",
       "      <td>0.72694</td>\n",
       "      <td>1.4742</td>\n",
       "      <td>0.32396</td>\n",
       "      <td>0.98535</td>\n",
       "      <td>1.00000</td>\n",
       "      <td>0.83592</td>\n",
       "      <td>0.004657</td>\n",
       "      <td>0.003947</td>\n",
       "      <td>0.047790</td>\n",
       "      <td>0.127950</td>\n",
       "      <td>0.016108</td>\n",
       "      <td>0.005232</td>\n",
       "      <td>0.000275</td>\n",
       "      <td>1.17560</td>\n",
       "      <td>red</td>\n",
       "    </tr>\n",
       "    <tr>\n",
       "      <th>1</th>\n",
       "      <td>1</td>\n",
       "      <td>2</td>\n",
       "      <td>0.74173</td>\n",
       "      <td>1.5257</td>\n",
       "      <td>0.36116</td>\n",
       "      <td>0.98152</td>\n",
       "      <td>0.99825</td>\n",
       "      <td>0.79867</td>\n",
       "      <td>0.005242</td>\n",
       "      <td>0.005002</td>\n",
       "      <td>0.024160</td>\n",
       "      <td>0.090476</td>\n",
       "      <td>0.008119</td>\n",
       "      <td>0.002708</td>\n",
       "      <td>0.000075</td>\n",
       "      <td>0.69659</td>\n",
       "      <td>red</td>\n",
       "    </tr>\n",
       "    <tr>\n",
       "      <th>2</th>\n",
       "      <td>1</td>\n",
       "      <td>3</td>\n",
       "      <td>0.76722</td>\n",
       "      <td>1.5725</td>\n",
       "      <td>0.38998</td>\n",
       "      <td>0.97755</td>\n",
       "      <td>1.00000</td>\n",
       "      <td>0.80812</td>\n",
       "      <td>0.007457</td>\n",
       "      <td>0.010121</td>\n",
       "      <td>0.011897</td>\n",
       "      <td>0.057445</td>\n",
       "      <td>0.003289</td>\n",
       "      <td>0.000921</td>\n",
       "      <td>0.000038</td>\n",
       "      <td>0.44348</td>\n",
       "      <td>red</td>\n",
       "    </tr>\n",
       "    <tr>\n",
       "      <th>3</th>\n",
       "      <td>1</td>\n",
       "      <td>4</td>\n",
       "      <td>0.73797</td>\n",
       "      <td>1.4597</td>\n",
       "      <td>0.35376</td>\n",
       "      <td>0.97566</td>\n",
       "      <td>1.00000</td>\n",
       "      <td>0.81697</td>\n",
       "      <td>0.006877</td>\n",
       "      <td>0.008607</td>\n",
       "      <td>0.015950</td>\n",
       "      <td>0.065491</td>\n",
       "      <td>0.004271</td>\n",
       "      <td>0.001154</td>\n",
       "      <td>0.000066</td>\n",
       "      <td>0.58785</td>\n",
       "      <td>red</td>\n",
       "    </tr>\n",
       "    <tr>\n",
       "      <th>4</th>\n",
       "      <td>1</td>\n",
       "      <td>5</td>\n",
       "      <td>0.82301</td>\n",
       "      <td>1.7707</td>\n",
       "      <td>0.44462</td>\n",
       "      <td>0.97698</td>\n",
       "      <td>1.00000</td>\n",
       "      <td>0.75493</td>\n",
       "      <td>0.007428</td>\n",
       "      <td>0.010042</td>\n",
       "      <td>0.007938</td>\n",
       "      <td>0.045339</td>\n",
       "      <td>0.002051</td>\n",
       "      <td>0.000560</td>\n",
       "      <td>0.000024</td>\n",
       "      <td>0.34214</td>\n",
       "      <td>red</td>\n",
       "    </tr>\n",
       "  </tbody>\n",
       "</table>\n",
       "</div>"
      ],
      "text/plain": [
       "   classname  id_per_class        2       3        4        5        6  \\\n",
       "0          1             1  0.72694  1.4742  0.32396  0.98535  1.00000   \n",
       "1          1             2  0.74173  1.5257  0.36116  0.98152  0.99825   \n",
       "2          1             3  0.76722  1.5725  0.38998  0.97755  1.00000   \n",
       "3          1             4  0.73797  1.4597  0.35376  0.97566  1.00000   \n",
       "4          1             5  0.82301  1.7707  0.44462  0.97698  1.00000   \n",
       "\n",
       "         7         8         9        10        11        12        13  \\\n",
       "0  0.83592  0.004657  0.003947  0.047790  0.127950  0.016108  0.005232   \n",
       "1  0.79867  0.005242  0.005002  0.024160  0.090476  0.008119  0.002708   \n",
       "2  0.80812  0.007457  0.010121  0.011897  0.057445  0.003289  0.000921   \n",
       "3  0.81697  0.006877  0.008607  0.015950  0.065491  0.004271  0.001154   \n",
       "4  0.75493  0.007428  0.010042  0.007938  0.045339  0.002051  0.000560   \n",
       "\n",
       "         14       15 colors  \n",
       "0  0.000275  1.17560    red  \n",
       "1  0.000075  0.69659    red  \n",
       "2  0.000038  0.44348    red  \n",
       "3  0.000066  0.58785    red  \n",
       "4  0.000024  0.34214    red  "
      ]
     },
     "execution_count": 4,
     "metadata": {},
     "output_type": "execute_result"
    }
   ],
   "source": [
    "#den Attributen Farbe zuordnen\n",
    "colors = []\n",
    "l = len(colorArr)\n",
    "for i in leafArr.classname:\n",
    "    colors.append(colorArr[i % l])\n",
    "leafArr['colors'] = colors\n",
    "leafArr.head()"
   ]
  },
  {
   "cell_type": "code",
   "execution_count": 5,
   "metadata": {},
   "outputs": [
    {
     "data": {
      "image/png": "[encoded data removed]",
      "text/plain": [
       "<matplotlib.figure.Figure at 0x14dbbd05320>"
      ]
     },
     "metadata": {},
     "output_type": "display_data"
    },
    {
     "data": {
      "image/png": "[encoded data removed]",
      "text/plain": [
       "<matplotlib.figure.Figure at 0x14dbbd2ef28>"
      ]
     },
     "metadata": {},
     "output_type": "display_data"
    }
   ],
   "source": [
    "#Scatter-Plot: Attribut 3&4 leafArr\n",
    "plt.scatter(leafArr[2],leafArr[3], c=leafArr['colors'], s=10)\n",
    "plt.title('Scatter Plot')\n",
    "plt.xlabel('X-Achse')\n",
    "plt.ylabel('Y-Achse')\n",
    "plt.show()\n",
    "\n",
    "#Scatter-Plot: Attribut 4&5 leafArr\n",
    "plt.scatter(leafArr[3],leafArr[4], c=leafArr['colors'], s=10)\n",
    "plt.title('Scatter Plot')\n",
    "plt.xlabel('X-Achse')\n",
    "plt.ylabel('Y-Achse')\n",
    "plt.show()"
   ]
  },
  {
   "cell_type": "code",
   "execution_count": 6,
   "metadata": {},
   "outputs": [
    {
     "data": {
      "text/plain": [
       "classname       124.378579\n",
       "id_per_class     -0.584765\n",
       "2                 0.212374\n",
       "3                 7.977202\n",
       "4                 0.308155\n",
       "5                 0.142993\n",
       "6                 0.059891\n",
       "7                -0.120735\n",
       "8                -0.017219\n",
       "9                -0.197665\n",
       "10                0.041094\n",
       "11                0.044098\n",
       "12                0.014556\n",
       "13                0.003455\n",
       "14                0.000903\n",
       "15                0.115385\n",
       "Name: classname, dtype: float64"
      ]
     },
     "execution_count": 6,
     "metadata": {},
     "output_type": "execute_result"
    }
   ],
   "source": [
    "#Berechnung der Kovarianz nach Spalte abhängig von 'classname'\n",
    "leafArr.cov()['classname']"
   ]
  },
  {
   "cell_type": "code",
   "execution_count": 7,
   "metadata": {},
   "outputs": [
    {
     "name": "stdout",
     "output_type": "stream",
     "text": [
      "117 223\n"
     ]
    }
   ],
   "source": [
    "#Random Zeilen zuordnen und aufteilen in 70-30\n",
    "n_total = len(leafArr)\n",
    "selector = np.random.random((n_total,1))\n",
    "index_test = selector < 0.3\n",
    "\n",
    "test_set = leafArr[index_test]\n",
    "training_set = leafArr[~index_test]\n",
    "print(len(test_set),len(training_set))"
   ]
  },
  {
   "cell_type": "code",
   "execution_count": 8,
   "metadata": {},
   "outputs": [
    {
     "data": {
      "text/plain": [
       "{'data': array([[  7.26940000e-01,   1.47420000e+00,   3.23960000e-01, ...,\n",
       "           1.61080000e-02,   5.23230000e-03,   2.74770000e-04],\n",
       "        [  7.41730000e-01,   1.52570000e+00,   3.61160000e-01, ...,\n",
       "           8.11950000e-03,   2.70800000e-03,   7.48460000e-05],\n",
       "        [  7.37970000e-01,   1.45970000e+00,   3.53760000e-01, ...,\n",
       "           4.27070000e-03,   1.15440000e-03,   6.62720000e-05],\n",
       "        ..., \n",
       "        [  3.75220000e-01,   1.14170000e+00,   8.17250000e-01, ...,\n",
       "           4.17030000e-02,   1.33440000e-02,   8.20330000e-04],\n",
       "        [  3.53440000e-01,   1.03290000e+00,   7.81470000e-01, ...,\n",
       "           4.11010000e-02,   1.61230000e-02,   4.52880000e-04],\n",
       "        [  5.99880000e-01,   1.14270000e+00,   7.15320000e-01, ...,\n",
       "           1.81210000e-02,   6.19000000e-03,   2.64540000e-04]]),\n",
       " 'target': array([ 0,  0,  0,  0,  0,  0,  0,  1,  1,  1,  1,  1,  1,  2,  2,  2,  2,\n",
       "         2,  2,  3,  3,  3,  3,  4,  4,  4,  4,  4,  4,  4,  4,  5,  5,  5,\n",
       "         6,  6,  6,  6,  6,  6,  6,  6,  7,  7,  7,  7,  7,  7,  7,  8,  8,\n",
       "         8,  8,  8,  8,  8,  8,  8,  8,  9,  9,  9,  9,  9,  9,  9,  9,  9,\n",
       "         9, 10, 10, 10, 10, 10, 10, 10, 10, 10, 11, 11, 11, 11, 11, 11, 11,\n",
       "        11, 11, 11, 12, 12, 12, 12, 12, 12, 12, 12, 12, 13, 13, 13, 13, 13,\n",
       "        13, 13, 13, 14, 14, 14, 14, 14, 14, 21, 21, 21, 21, 21, 21, 21, 21,\n",
       "        21, 22, 22, 22, 22, 22, 22, 23, 23, 23, 23, 23, 24, 24, 24, 24, 24,\n",
       "        25, 25, 25, 25, 25, 25, 25, 25, 25, 25, 26, 26, 26, 26, 26, 26, 26,\n",
       "        27, 27, 27, 27, 27, 27, 27, 27, 27, 28, 28, 28, 28, 28, 28, 28, 28,\n",
       "        28, 28, 29, 29, 29, 29, 29, 29, 29, 29, 30, 30, 30, 30, 30, 30, 30,\n",
       "        30, 30, 30, 31, 31, 31, 31, 31, 31, 31, 31, 31, 32, 32, 32, 32, 32,\n",
       "        32, 33, 33, 33, 33, 33, 33, 34, 34, 34, 34, 34, 34, 34, 35, 35, 35,\n",
       "        35, 35])}"
      ]
     },
     "execution_count": 8,
     "metadata": {},
     "output_type": "execute_result"
    }
   ],
   "source": [
    "def pd_to_tf(df):\n",
    "    df = df.as_matrix()\n",
    "    leafArrCopy = {}\n",
    "    leafArrCopy['target'] = df[:,0].astype(\"int32\") - 1\n",
    "    leafArrCopy['data'] = df[:,2:-2].astype(\"float64\")\n",
    "    return leafArrCopy\n",
    "\n",
    "test_set = pd_to_tf(test_set)\n",
    "training_set = pd_to_tf(training_set)\n",
    "training_set"
   ]
  },
  {
   "cell_type": "code",
   "execution_count": 9,
   "metadata": {
    "collapsed": true
   },
   "outputs": [],
   "source": [
    "#Trainingsdaten festlegen\n",
    "def get_train_inputs():\n",
    "    x = tf.constant(training_set['data'])\n",
    "    y = tf.constant(training_set['target'])\n",
    "    return x, y"
   ]
  },
  {
   "cell_type": "code",
   "execution_count": 10,
   "metadata": {
    "collapsed": true
   },
   "outputs": [],
   "source": [
    "#Testdaten festlegen\n",
    "def get_test_inputs():\n",
    "    x = tf.constant(test_set['data'])\n",
    "    y = tf.constant(test_set['target'])\n",
    "    return x, y"
   ]
  },
  {
   "cell_type": "code",
   "execution_count": 11,
   "metadata": {},
   "outputs": [
    {
     "name": "stdout",
     "output_type": "stream",
     "text": [
      "13\n"
     ]
    }
   ],
   "source": [
    "#36 Klassifizierungen in CSV-Datei (siehe Spalte \"classname\")\n",
    "n_classes = 36\n",
    "n_features = training_set['data'].shape[1]\n",
    "\n",
    "print(n_features)\n",
    "feature_columns = [tf.contrib.layers.real_valued_column(\"\", dimension=n_features)]"
   ]
  },
  {
   "cell_type": "code",
   "execution_count": 16,
   "metadata": {},
   "outputs": [
    {
     "name": "stdout",
     "output_type": "stream",
     "text": [
      "INFO:tensorflow:Using default config.\n",
      "INFO:tensorflow:Using config: {'_task_type': None, '_task_id': 0, '_cluster_spec': <tensorflow.python.training.server_lib.ClusterSpec object at 0x0000014DBE212EB8>, '_master': '', '_num_ps_replicas': 0, '_num_worker_replicas': 0, '_environment': 'local', '_is_chief': True, '_evaluation_master': '', '_tf_config': gpu_options {\n",
      "  per_process_gpu_memory_fraction: 1\n",
      "}\n",
      ", '_tf_random_seed': None, '_save_summary_steps': 100, '_save_checkpoints_secs': 600, '_save_checkpoints_steps': None, '_keep_checkpoint_max': 5, '_keep_checkpoint_every_n_hours': 10000, '_model_dir': None}\n",
      "WARNING:tensorflow:Using temporary folder as model directory: C:\\Users\\cjord\\AppData\\Local\\Temp\\tmp5u5w14yt\n"
     ]
    }
   ],
   "source": [
    "classifier = tf.contrib.learn.DNNClassifier(feature_columns=feature_columns,\n",
    "                                            hidden_units=[64, 32, 16],\n",
    "                                            n_classes=36,)"
   ]
  },
  {
   "cell_type": "code",
   "execution_count": 14,
   "metadata": {},
   "outputs": [
    {
     "name": "stdout",
     "output_type": "stream",
     "text": [
      "WARNING:tensorflow:From C:\\Users\\cjord\\Anaconda3\\lib\\site-packages\\tensorflow\\contrib\\learn\\python\\learn\\estimators\\head.py:615: scalar_summary (from tensorflow.python.ops.logging_ops) is deprecated and will be removed after 2016-11-30.\n",
      "Instructions for updating:\n",
      "Please switch to tf.summary.scalar. Note that tf.summary.scalar uses the node name instead of the tag. This means that TensorFlow will automatically de-duplicate summary names based on the scope they are created in. Also, passing a tensor or list of tags to a scalar summary op is no longer supported.\n",
      "INFO:tensorflow:Create CheckpointSaverHook.\n",
      "INFO:tensorflow:Restoring parameters from C:\\Users\\cjord\\AppData\\Local\\Temp\\tmpi3v90nlp\\model.ckpt-5000\n",
      "INFO:tensorflow:Saving checkpoints for 5001 into C:\\Users\\cjord\\AppData\\Local\\Temp\\tmpi3v90nlp\\model.ckpt.\n",
      "INFO:tensorflow:loss = 0.455357, step = 5001\n",
      "INFO:tensorflow:global_step/sec: 286.839\n",
      "INFO:tensorflow:loss = 0.460723, step = 5101 (0.362 sec)\n",
      "INFO:tensorflow:global_step/sec: 283.169\n",
      "INFO:tensorflow:loss = 0.445667, step = 5201 (0.353 sec)\n",
      "INFO:tensorflow:global_step/sec: 301.666\n",
      "INFO:tensorflow:loss = 0.434764, step = 5301 (0.331 sec)\n",
      "INFO:tensorflow:global_step/sec: 288.268\n",
      "INFO:tensorflow:loss = 0.433867, step = 5401 (0.353 sec)\n",
      "INFO:tensorflow:global_step/sec: 282.658\n",
      "INFO:tensorflow:loss = 0.435048, step = 5501 (0.347 sec)\n",
      "INFO:tensorflow:global_step/sec: 301.327\n",
      "INFO:tensorflow:loss = 0.426569, step = 5601 (0.332 sec)\n",
      "INFO:tensorflow:global_step/sec: 295.641\n",
      "INFO:tensorflow:loss = 0.428183, step = 5701 (0.354 sec)\n",
      "INFO:tensorflow:global_step/sec: 287.732\n",
      "INFO:tensorflow:loss = 0.421912, step = 5801 (0.342 sec)\n",
      "INFO:tensorflow:global_step/sec: 282.583\n",
      "INFO:tensorflow:loss = 0.413753, step = 5901 (0.344 sec)\n",
      "INFO:tensorflow:global_step/sec: 301.5\n",
      "INFO:tensorflow:loss = 0.403443, step = 6001 (0.332 sec)\n",
      "INFO:tensorflow:global_step/sec: 280.908\n",
      "INFO:tensorflow:loss = 0.399663, step = 6101 (0.353 sec)\n",
      "INFO:tensorflow:global_step/sec: 303.953\n",
      "INFO:tensorflow:loss = 0.399592, step = 6201 (0.332 sec)\n",
      "INFO:tensorflow:global_step/sec: 287.836\n",
      "INFO:tensorflow:loss = 0.401823, step = 6301 (0.347 sec)\n",
      "INFO:tensorflow:global_step/sec: 295.483\n",
      "INFO:tensorflow:loss = 0.387451, step = 6401 (0.338 sec)\n",
      "INFO:tensorflow:global_step/sec: 279.719\n",
      "INFO:tensorflow:loss = 0.39477, step = 6501 (0.359 sec)\n",
      "INFO:tensorflow:global_step/sec: 291.588\n",
      "INFO:tensorflow:loss = 0.384874, step = 6601 (0.342 sec)\n",
      "INFO:tensorflow:global_step/sec: 288.117\n",
      "INFO:tensorflow:loss = 0.381304, step = 6701 (0.347 sec)\n",
      "INFO:tensorflow:global_step/sec: 301.886\n",
      "INFO:tensorflow:loss = 0.37667, step = 6801 (0.338 sec)\n",
      "INFO:tensorflow:global_step/sec: 283.962\n",
      "INFO:tensorflow:loss = 0.379121, step = 6901 (0.346 sec)\n",
      "INFO:tensorflow:global_step/sec: 278.489\n",
      "INFO:tensorflow:loss = 0.366362, step = 7001 (0.363 sec)\n",
      "INFO:tensorflow:global_step/sec: 249.33\n",
      "INFO:tensorflow:loss = 0.366455, step = 7101 (0.399 sec)\n",
      "INFO:tensorflow:global_step/sec: 271.022\n",
      "INFO:tensorflow:loss = 0.364508, step = 7201 (0.369 sec)\n",
      "INFO:tensorflow:global_step/sec: 260.34\n",
      "INFO:tensorflow:loss = 0.362482, step = 7301 (0.382 sec)\n",
      "INFO:tensorflow:global_step/sec: 202.18\n",
      "INFO:tensorflow:loss = 0.349738, step = 7401 (0.510 sec)\n",
      "INFO:tensorflow:global_step/sec: 180.569\n",
      "INFO:tensorflow:loss = 0.362155, step = 7501 (0.547 sec)\n",
      "INFO:tensorflow:global_step/sec: 204.336\n",
      "INFO:tensorflow:loss = 0.353364, step = 7601 (0.485 sec)\n",
      "INFO:tensorflow:global_step/sec: 238.873\n",
      "INFO:tensorflow:loss = 0.34477, step = 7701 (0.416 sec)\n",
      "INFO:tensorflow:global_step/sec: 226.87\n",
      "INFO:tensorflow:loss = 0.344379, step = 7801 (0.453 sec)\n",
      "INFO:tensorflow:global_step/sec: 216.841\n",
      "INFO:tensorflow:loss = 0.336864, step = 7901 (0.447 sec)\n",
      "INFO:tensorflow:global_step/sec: 223.593\n",
      "INFO:tensorflow:loss = 0.330008, step = 8001 (0.447 sec)\n",
      "INFO:tensorflow:global_step/sec: 220.753\n",
      "INFO:tensorflow:loss = 0.328834, step = 8101 (0.453 sec)\n",
      "INFO:tensorflow:global_step/sec: 200.787\n",
      "INFO:tensorflow:loss = 0.333169, step = 8201 (0.500 sec)\n",
      "INFO:tensorflow:global_step/sec: 239.278\n",
      "INFO:tensorflow:loss = 0.323543, step = 8301 (0.416 sec)\n",
      "INFO:tensorflow:global_step/sec: 214.581\n",
      "INFO:tensorflow:loss = 0.317874, step = 8401 (0.484 sec)\n",
      "INFO:tensorflow:global_step/sec: 210.073\n",
      "INFO:tensorflow:loss = 0.314739, step = 8501 (0.475 sec)\n",
      "INFO:tensorflow:global_step/sec: 211.892\n",
      "INFO:tensorflow:loss = 0.310531, step = 8601 (0.469 sec)\n",
      "INFO:tensorflow:global_step/sec: 224.202\n",
      "INFO:tensorflow:loss = 0.30987, step = 8701 (0.442 sec)\n",
      "INFO:tensorflow:global_step/sec: 230.402\n",
      "INFO:tensorflow:loss = 0.3027, step = 8801 (0.433 sec)\n",
      "INFO:tensorflow:global_step/sec: 174.181\n",
      "INFO:tensorflow:loss = 0.300913, step = 8901 (0.586 sec)\n",
      "INFO:tensorflow:global_step/sec: 175.977\n",
      "INFO:tensorflow:loss = 0.297337, step = 9001 (0.556 sec)\n",
      "INFO:tensorflow:global_step/sec: 207.685\n",
      "INFO:tensorflow:loss = 0.293627, step = 9101 (0.477 sec)\n",
      "INFO:tensorflow:global_step/sec: 250.131\n",
      "INFO:tensorflow:loss = 0.291624, step = 9201 (0.411 sec)\n",
      "INFO:tensorflow:global_step/sec: 201.053\n",
      "INFO:tensorflow:loss = 0.288886, step = 9301 (0.500 sec)\n",
      "INFO:tensorflow:global_step/sec: 190.906\n",
      "INFO:tensorflow:loss = 0.281008, step = 9401 (0.505 sec)\n",
      "INFO:tensorflow:global_step/sec: 212.91\n",
      "INFO:tensorflow:loss = 0.282407, step = 9501 (0.483 sec)\n",
      "INFO:tensorflow:global_step/sec: 188.629\n",
      "INFO:tensorflow:loss = 0.278565, step = 9601 (0.517 sec)\n",
      "INFO:tensorflow:global_step/sec: 201.652\n",
      "INFO:tensorflow:loss = 0.275383, step = 9701 (0.512 sec)\n",
      "INFO:tensorflow:global_step/sec: 240.365\n",
      "INFO:tensorflow:loss = 0.274063, step = 9801 (0.421 sec)\n",
      "INFO:tensorflow:global_step/sec: 228.253\n",
      "INFO:tensorflow:loss = 0.270363, step = 9901 (0.418 sec)\n",
      "INFO:tensorflow:Saving checkpoints for 10000 into C:\\Users\\cjord\\AppData\\Local\\Temp\\tmpi3v90nlp\\model.ckpt.\n",
      "INFO:tensorflow:Loss for final step: 0.26644.\n"
     ]
    },
    {
     "data": {
      "text/plain": [
       "DNNClassifier(params={'head': <tensorflow.contrib.learn.python.learn.estimators.head._MultiClassHead object at 0x0000014DBBDB2EB8>, 'hidden_units': [64, 32, 16], 'feature_columns': (_RealValuedColumn(column_name='', dimension=13, default_value=None, dtype=tf.float32, normalizer=None),), 'optimizer': None, 'activation_fn': <function relu at 0x0000014DB8AFB840>, 'dropout': None, 'gradient_clip_norm': None, 'embedding_lr_multipliers': None, 'input_layer_min_slice_size': None})"
      ]
     },
     "execution_count": 14,
     "metadata": {},
     "output_type": "execute_result"
    }
   ],
   "source": [
    "\n",
    "classifier.fit(input_fn=get_train_inputs, steps=5000)"
   ]
  },
  {
   "cell_type": "code",
   "execution_count": 15,
   "metadata": {},
   "outputs": [
    {
     "name": "stdout",
     "output_type": "stream",
     "text": [
      "WARNING:tensorflow:From C:\\Users\\cjord\\Anaconda3\\lib\\site-packages\\tensorflow\\contrib\\learn\\python\\learn\\estimators\\head.py:615: scalar_summary (from tensorflow.python.ops.logging_ops) is deprecated and will be removed after 2016-11-30.\n",
      "Instructions for updating:\n",
      "Please switch to tf.summary.scalar. Note that tf.summary.scalar uses the node name instead of the tag. This means that TensorFlow will automatically de-duplicate summary names based on the scope they are created in. Also, passing a tensor or list of tags to a scalar summary op is no longer supported.\n",
      "INFO:tensorflow:Starting evaluation at 2017-09-07-11:33:42\n",
      "INFO:tensorflow:Restoring parameters from C:\\Users\\cjord\\AppData\\Local\\Temp\\tmpi3v90nlp\\model.ckpt-10000\n",
      "INFO:tensorflow:Evaluation [1/1]\n",
      "INFO:tensorflow:Finished evaluation at 2017-09-07-11:33:43\n",
      "INFO:tensorflow:Saving dict for global step 10000: accuracy = 0.598291, global_step = 10000, loss = 2.35088\n",
      "WARNING:tensorflow:Skipping summary for global_step, must be a float or np.float32.\n",
      "\n",
      "Genauigkeit: 59.83%\n",
      "\n"
     ]
    }
   ],
   "source": [
    "accuracy_score = classifier.evaluate(input_fn=get_test_inputs, steps=1)[\"accuracy\"]\n",
    "print(\"\\nGenauigkeit: {0:.2f}%\\n\".format(100*accuracy_score))"
   ]
  }
 ],
 "metadata": {
  "kernelspec": {
   "display_name": "Python 3",
   "language": "python",
   "name": "python3"
  },
  "language_info": {
   "codemirror_mode": {
    "name": "ipython",
    "version": 3
   },
   "file_extension": ".py",
   "mimetype": "text/x-python",
   "name": "python",
   "nbconvert_exporter": "python",
   "pygments_lexer": "ipython3",
   "version": "3.6.1"
  }
 },
 "nbformat": 4,
 "nbformat_minor": 2
}
